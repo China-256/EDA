{
 "cells": [
  {
   "cell_type": "markdown",
   "metadata": {},
   "source": [
    "# Exploratory Data Analysis (EDA) in Airbnb"
   ]
  },
  {
   "cell_type": "markdown",
   "metadata": {},
   "source": [
    "Airbnb is a digital platform that offers accommodation aroud the world. These places can be owned by individuals or companies and through the platform hosts and guests get in touch to secure payments, answer doubts/questions and ultimately to guarantee a pleasant stay. For the following study, Airbnb data in NYC will be explored to answer some important questions. "
   ]
  },
  {
   "cell_type": "markdown",
   "metadata": {},
   "source": [
    "## Agenda"
   ]
  },
  {
   "cell_type": "markdown",
   "metadata": {},
   "source": [
    "Data should be explored in order to detect which information is the most relevant and set a list of questions that shall be answered accordingly. To keep it organized, the study will be divided in 5 main parts and the process shall be described in a series of steps.\n",
    "\n",
    "- **Introduction:** this phase covers the basics, set the initial layout and make a first approach to the variables. Understanding where we are standing is key for the project.\n",
    "- **Research Questions & Hypothesis:** once the author is familiarized with the data and variables some inferences and assumptions shall be made.\n",
    "- **Data Pre-processing:** after the questions are set, the author must clean the data and do some manipulations/calculations to present accurate results. \n",
    "- **Results & Analysis:** results are presented supported by graphs. Intepretations of data and answers to research questions and hypothesis are also addressed in this part.\n",
    "- **Conclusion:** quick summary of the study and final insights and considerations are made."
   ]
  },
  {
   "cell_type": "markdown",
   "metadata": {},
   "source": [
    "## 1. Introduction"
   ]
  },
  {
   "cell_type": "markdown",
   "metadata": {},
   "source": [
    "### 1.1 Import Python Libraries"
   ]
  },
  {
   "cell_type": "markdown",
   "metadata": {},
   "source": [
    "The first steps consists in importing all the libraries required for the analysis.\n",
    "- **Pandas** and **Numpy** for Data Manipulation and Mathematical Calculations.\n",
    "- **Seaborn** and **Pyplot** for Data Visualization."
   ]
  },
  {
   "cell_type": "code",
   "execution_count": 278,
   "metadata": {},
   "outputs": [],
   "source": [
    "import pandas as pd\n",
    "import numpy as np\n",
    "from matplotlib import pyplot as plt\n",
    "import seaborn as sns"
   ]
  },
  {
   "cell_type": "markdown",
   "metadata": {},
   "source": [
    "### 1.2 Reading the Dataset"
   ]
  },
  {
   "cell_type": "markdown",
   "metadata": {},
   "source": [
    "Before any manipulation or calculation, raw data shall be presented. The data is contained in a csv file and we want to display the first 5 rows to give a quick overview of the dataframe. "
   ]
  },
  {
   "cell_type": "code",
   "execution_count": 279,
   "metadata": {},
   "outputs": [
    {
     "data": {
      "text/html": [
       "<div>\n",
       "<style scoped>\n",
       "    .dataframe tbody tr th:only-of-type {\n",
       "        vertical-align: middle;\n",
       "    }\n",
       "\n",
       "    .dataframe tbody tr th {\n",
       "        vertical-align: top;\n",
       "    }\n",
       "\n",
       "    .dataframe thead th {\n",
       "        text-align: right;\n",
       "    }\n",
       "</style>\n",
       "<table border=\"1\" class=\"dataframe\">\n",
       "  <thead>\n",
       "    <tr style=\"text-align: right;\">\n",
       "      <th></th>\n",
       "      <th>id</th>\n",
       "      <th>name</th>\n",
       "      <th>summary</th>\n",
       "      <th>description</th>\n",
       "      <th>experiences_offered</th>\n",
       "      <th>neighborhood_overview</th>\n",
       "      <th>transit</th>\n",
       "      <th>house_rules</th>\n",
       "      <th>host_id</th>\n",
       "      <th>host_since</th>\n",
       "      <th>...</th>\n",
       "      <th>hot_tub_sauna_or_pool</th>\n",
       "      <th>internet</th>\n",
       "      <th>long_term_stays</th>\n",
       "      <th>pets_allowed</th>\n",
       "      <th>private_entrance</th>\n",
       "      <th>secure</th>\n",
       "      <th>self_check_in</th>\n",
       "      <th>smoking_allowed</th>\n",
       "      <th>accessible</th>\n",
       "      <th>event_suitable</th>\n",
       "    </tr>\n",
       "  </thead>\n",
       "  <tbody>\n",
       "    <tr>\n",
       "      <th>0</th>\n",
       "      <td>2539</td>\n",
       "      <td>Clean &amp; quiet apt home by the park</td>\n",
       "      <td>Renovated apt home in elevator building.</td>\n",
       "      <td>Renovated apt home in elevator building. Spaci...</td>\n",
       "      <td>none</td>\n",
       "      <td>Close to Prospect Park and Historic Ditmas Park</td>\n",
       "      <td>Very close to F and G trains and Express bus i...</td>\n",
       "      <td>-The security and comfort of all our guests is...</td>\n",
       "      <td>2787</td>\n",
       "      <td>39698.0</td>\n",
       "      <td>...</td>\n",
       "      <td>-1</td>\n",
       "      <td>1</td>\n",
       "      <td>1</td>\n",
       "      <td>-1</td>\n",
       "      <td>-1</td>\n",
       "      <td>1</td>\n",
       "      <td>1</td>\n",
       "      <td>-1</td>\n",
       "      <td>1</td>\n",
       "      <td>1</td>\n",
       "    </tr>\n",
       "    <tr>\n",
       "      <th>1</th>\n",
       "      <td>3647</td>\n",
       "      <td>THE VILLAGE OF HARLEM....NEW YORK !</td>\n",
       "      <td>NaN</td>\n",
       "      <td>WELCOME TO OUR INTERNATIONAL URBAN COMMUNITY T...</td>\n",
       "      <td>none</td>\n",
       "      <td>NaN</td>\n",
       "      <td>NaN</td>\n",
       "      <td>Upon arrival please have a legibile copy of yo...</td>\n",
       "      <td>4632</td>\n",
       "      <td>39777.0</td>\n",
       "      <td>...</td>\n",
       "      <td>-1</td>\n",
       "      <td>1</td>\n",
       "      <td>-1</td>\n",
       "      <td>-1</td>\n",
       "      <td>-1</td>\n",
       "      <td>-1</td>\n",
       "      <td>-1</td>\n",
       "      <td>-1</td>\n",
       "      <td>-1</td>\n",
       "      <td>-1</td>\n",
       "    </tr>\n",
       "    <tr>\n",
       "      <th>2</th>\n",
       "      <td>7750</td>\n",
       "      <td>Huge 2 BR Upper East  Cental Park</td>\n",
       "      <td>NaN</td>\n",
       "      <td>Large Furnished 2BR one block  to Central Park...</td>\n",
       "      <td>none</td>\n",
       "      <td>NaN</td>\n",
       "      <td>NaN</td>\n",
       "      <td>NaN</td>\n",
       "      <td>17985</td>\n",
       "      <td>39953.0</td>\n",
       "      <td>...</td>\n",
       "      <td>-1</td>\n",
       "      <td>1</td>\n",
       "      <td>-1</td>\n",
       "      <td>1</td>\n",
       "      <td>-1</td>\n",
       "      <td>-1</td>\n",
       "      <td>-1</td>\n",
       "      <td>-1</td>\n",
       "      <td>-1</td>\n",
       "      <td>-1</td>\n",
       "    </tr>\n",
       "    <tr>\n",
       "      <th>3</th>\n",
       "      <td>8505</td>\n",
       "      <td>Sunny Bedroom Across Prospect Park</td>\n",
       "      <td>Just renovated sun drenched bedroom in a quiet...</td>\n",
       "      <td>Just renovated sun drenched bedroom in a quiet...</td>\n",
       "      <td>none</td>\n",
       "      <td>Quiet and beautiful Windsor Terrace. The apart...</td>\n",
       "      <td>Ten minutes walk to the 15th sheet F&amp;G train s...</td>\n",
       "      <td>- No shoes in the house - Quiet hours after 11...</td>\n",
       "      <td>25326</td>\n",
       "      <td>40006.0</td>\n",
       "      <td>...</td>\n",
       "      <td>-1</td>\n",
       "      <td>1</td>\n",
       "      <td>-1</td>\n",
       "      <td>-1</td>\n",
       "      <td>-1</td>\n",
       "      <td>-1</td>\n",
       "      <td>-1</td>\n",
       "      <td>-1</td>\n",
       "      <td>-1</td>\n",
       "      <td>-1</td>\n",
       "    </tr>\n",
       "    <tr>\n",
       "      <th>4</th>\n",
       "      <td>8700</td>\n",
       "      <td>Magnifique Suite au N de Manhattan - vue Cloitres</td>\n",
       "      <td>Suite de 20 m2 a 5 min des 2 lignes de metro a...</td>\n",
       "      <td>Suite de 20 m2 a 5 min des 2 lignes de metro a...</td>\n",
       "      <td>none</td>\n",
       "      <td>NaN</td>\n",
       "      <td>Metro 1 et A</td>\n",
       "      <td>NaN</td>\n",
       "      <td>26394</td>\n",
       "      <td>40014.0</td>\n",
       "      <td>...</td>\n",
       "      <td>-1</td>\n",
       "      <td>1</td>\n",
       "      <td>-1</td>\n",
       "      <td>-1</td>\n",
       "      <td>-1</td>\n",
       "      <td>-1</td>\n",
       "      <td>-1</td>\n",
       "      <td>-1</td>\n",
       "      <td>-1</td>\n",
       "      <td>-1</td>\n",
       "    </tr>\n",
       "  </tbody>\n",
       "</table>\n",
       "<p>5 rows × 81 columns</p>\n",
       "</div>"
      ],
      "text/plain": [
       "     id                                               name  \\\n",
       "0  2539                 Clean & quiet apt home by the park   \n",
       "1  3647                THE VILLAGE OF HARLEM....NEW YORK !   \n",
       "2  7750                  Huge 2 BR Upper East  Cental Park   \n",
       "3  8505                 Sunny Bedroom Across Prospect Park   \n",
       "4  8700  Magnifique Suite au N de Manhattan - vue Cloitres   \n",
       "\n",
       "                                             summary  \\\n",
       "0           Renovated apt home in elevator building.   \n",
       "1                                                NaN   \n",
       "2                                                NaN   \n",
       "3  Just renovated sun drenched bedroom in a quiet...   \n",
       "4  Suite de 20 m2 a 5 min des 2 lignes de metro a...   \n",
       "\n",
       "                                         description experiences_offered  \\\n",
       "0  Renovated apt home in elevator building. Spaci...                none   \n",
       "1  WELCOME TO OUR INTERNATIONAL URBAN COMMUNITY T...                none   \n",
       "2  Large Furnished 2BR one block  to Central Park...                none   \n",
       "3  Just renovated sun drenched bedroom in a quiet...                none   \n",
       "4  Suite de 20 m2 a 5 min des 2 lignes de metro a...                none   \n",
       "\n",
       "                               neighborhood_overview  \\\n",
       "0    Close to Prospect Park and Historic Ditmas Park   \n",
       "1                                                NaN   \n",
       "2                                                NaN   \n",
       "3  Quiet and beautiful Windsor Terrace. The apart...   \n",
       "4                                                NaN   \n",
       "\n",
       "                                             transit  \\\n",
       "0  Very close to F and G trains and Express bus i...   \n",
       "1                                                NaN   \n",
       "2                                                NaN   \n",
       "3  Ten minutes walk to the 15th sheet F&G train s...   \n",
       "4                                       Metro 1 et A   \n",
       "\n",
       "                                         house_rules  host_id  host_since  \\\n",
       "0  -The security and comfort of all our guests is...     2787     39698.0   \n",
       "1  Upon arrival please have a legibile copy of yo...     4632     39777.0   \n",
       "2                                                NaN    17985     39953.0   \n",
       "3  - No shoes in the house - Quiet hours after 11...    25326     40006.0   \n",
       "4                                                NaN    26394     40014.0   \n",
       "\n",
       "   ... hot_tub_sauna_or_pool  internet  long_term_stays  pets_allowed  \\\n",
       "0  ...                    -1         1                1            -1   \n",
       "1  ...                    -1         1               -1            -1   \n",
       "2  ...                    -1         1               -1             1   \n",
       "3  ...                    -1         1               -1            -1   \n",
       "4  ...                    -1         1               -1            -1   \n",
       "\n",
       "   private_entrance secure self_check_in  smoking_allowed  accessible  \\\n",
       "0                -1      1             1               -1           1   \n",
       "1                -1     -1            -1               -1          -1   \n",
       "2                -1     -1            -1               -1          -1   \n",
       "3                -1     -1            -1               -1          -1   \n",
       "4                -1     -1            -1               -1          -1   \n",
       "\n",
       "  event_suitable  \n",
       "0              1  \n",
       "1             -1  \n",
       "2             -1  \n",
       "3             -1  \n",
       "4             -1  \n",
       "\n",
       "[5 rows x 81 columns]"
      ]
     },
     "execution_count": 279,
     "metadata": {},
     "output_type": "execute_result"
    }
   ],
   "source": [
    "data = pd.read_csv(r\"C:\\Users\\yengl\\Desktop\\CodeOp\\EDA\\data\\airbnb_nyc.csv\")\n",
    "\n",
    "data.head()"
   ]
  },
  {
   "cell_type": "markdown",
   "metadata": {},
   "source": [
    "### 1.3 Analyze the Data"
   ]
  },
  {
   "cell_type": "markdown",
   "metadata": {},
   "source": [
    "In this step an exhaustive examination of the variables will be made before making any inferences. This step is crucial because gives general insights about the dataset."
   ]
  },
  {
   "cell_type": "code",
   "execution_count": 280,
   "metadata": {},
   "outputs": [
    {
     "data": {
      "text/plain": [
       "(30179, 81)"
      ]
     },
     "execution_count": 280,
     "metadata": {},
     "output_type": "execute_result"
    }
   ],
   "source": [
    "data.shape"
   ]
  },
  {
   "cell_type": "markdown",
   "metadata": {},
   "source": [
    "our dataset has 30179 rows and 81 columns. Let's explore the columns (variables) a bit further. "
   ]
  },
  {
   "cell_type": "code",
   "execution_count": 281,
   "metadata": {},
   "outputs": [
    {
     "name": "stdout",
     "output_type": "stream",
     "text": [
      "<class 'pandas.core.frame.DataFrame'>\n",
      "RangeIndex: 30179 entries, 0 to 30178\n",
      "Data columns (total 81 columns):\n",
      " #   Column                                        Non-Null Count  Dtype  \n",
      "---  ------                                        --------------  -----  \n",
      " 0   id                                            30179 non-null  int64  \n",
      " 1   name                                          30166 non-null  object \n",
      " 2   summary                                       28961 non-null  object \n",
      " 3   description                                   29575 non-null  object \n",
      " 4   experiences_offered                           30179 non-null  object \n",
      " 5   neighborhood_overview                         18113 non-null  object \n",
      " 6   transit                                       18190 non-null  object \n",
      " 7   house_rules                                   16622 non-null  object \n",
      " 8   host_id                                       30179 non-null  int64  \n",
      " 9   host_since                                    30170 non-null  float64\n",
      " 10  host_response_time                            17082 non-null  object \n",
      " 11  host_response_rate                            17082 non-null  float64\n",
      " 12  host_is_superhost                             30170 non-null  float64\n",
      " 13  host_listings_count                           30170 non-null  float64\n",
      " 14  host_identity_verified                        30170 non-null  float64\n",
      " 15  street                                        30179 non-null  object \n",
      " 16  neighbourhood                                 30170 non-null  object \n",
      " 17  latitude                                      30179 non-null  float64\n",
      " 18  longitude                                     30179 non-null  float64\n",
      " 19  property_type                                 30179 non-null  object \n",
      " 20  room_type                                     30179 non-null  object \n",
      " 21  accommodates                                  30179 non-null  int64  \n",
      " 22  bathrooms                                     30179 non-null  float64\n",
      " 23  bedrooms                                      30179 non-null  int64  \n",
      " 24  beds                                          30179 non-null  int64  \n",
      " 25  bed_type                                      30179 non-null  object \n",
      " 26  amenities                                     30179 non-null  object \n",
      " 27  price                                         30179 non-null  int64  \n",
      " 28  guests_included                               30179 non-null  int64  \n",
      " 29  extra_people                                  30179 non-null  int64  \n",
      " 30  minimum_nights                                30179 non-null  int64  \n",
      " 31  calendar_updated                              30179 non-null  object \n",
      " 32  has_availability                              30179 non-null  int64  \n",
      " 33  availability_30                               30179 non-null  int64  \n",
      " 34  availability_60                               30179 non-null  int64  \n",
      " 35  availability_90                               30179 non-null  int64  \n",
      " 36  availability_365                              30179 non-null  int64  \n",
      " 37  number_of_reviews                             30179 non-null  int64  \n",
      " 38  number_of_reviews_ltm                         30179 non-null  int64  \n",
      " 39  review_scores_rating                          21094 non-null  float64\n",
      " 40  review_scores_accuracy                        21068 non-null  float64\n",
      " 41  review_scores_cleanliness                     21078 non-null  float64\n",
      " 42  review_scores_checkin                         21050 non-null  float64\n",
      " 43  review_scores_communication                   21069 non-null  float64\n",
      " 44  review_scores_location                        21047 non-null  float64\n",
      " 45  review_scores_value                           21049 non-null  float64\n",
      " 46  instant_bookable                              30179 non-null  int64  \n",
      " 47  cancellation_policy                           30179 non-null  object \n",
      " 48  calculated_host_listings_count                30179 non-null  int64  \n",
      " 49  calculated_host_listings_count_entire_homes   30179 non-null  int64  \n",
      " 50  calculated_host_listings_count_private_rooms  30179 non-null  int64  \n",
      " 51  calculated_host_listings_count_shared_rooms   30179 non-null  int64  \n",
      " 52  reviews_per_month                             21919 non-null  float64\n",
      " 53  check_in_24h                                  30179 non-null  int64  \n",
      " 54  air_conditioning                              30179 non-null  int64  \n",
      " 55  high_end_electronics                          30179 non-null  int64  \n",
      " 56  bbq                                           30179 non-null  int64  \n",
      " 57  balcony                                       30179 non-null  int64  \n",
      " 58  nature_and_views                              30179 non-null  int64  \n",
      " 59  bed_linen                                     30179 non-null  int64  \n",
      " 60  breakfast                                     30179 non-null  int64  \n",
      " 61  tv                                            30179 non-null  int64  \n",
      " 62  coffee_machine                                30179 non-null  int64  \n",
      " 63  cooking_basics                                30179 non-null  int64  \n",
      " 64  white_goods                                   30179 non-null  int64  \n",
      " 65  elevator                                      30179 non-null  int64  \n",
      " 66  gym                                           30179 non-null  int64  \n",
      " 67  child_friendly                                30179 non-null  int64  \n",
      " 68  parking                                       30179 non-null  int64  \n",
      " 69  outdoor_space                                 30179 non-null  int64  \n",
      " 70  host_greeting                                 30179 non-null  int64  \n",
      " 71  hot_tub_sauna_or_pool                         30179 non-null  int64  \n",
      " 72  internet                                      30179 non-null  int64  \n",
      " 73  long_term_stays                               30179 non-null  int64  \n",
      " 74  pets_allowed                                  30179 non-null  int64  \n",
      " 75  private_entrance                              30179 non-null  int64  \n",
      " 76  secure                                        30179 non-null  int64  \n",
      " 77  self_check_in                                 30179 non-null  int64  \n",
      " 78  smoking_allowed                               30179 non-null  int64  \n",
      " 79  accessible                                    30179 non-null  int64  \n",
      " 80  event_suitable                                30179 non-null  int64  \n",
      "dtypes: float64(16), int64(49), object(16)\n",
      "memory usage: 18.7+ MB\n"
     ]
    }
   ],
   "source": [
    "data.info()"
   ]
  },
  {
   "cell_type": "markdown",
   "metadata": {},
   "source": [
    "Observing the variables listed, some considerations are made:\n",
    "- Variables like 'gym', 'elevator', 'pets_allowed', 'parking', 'tv', 'internet', 'child_friendly', 'coffee_machine', 'air_conditioning', etc are also considered in amenities, these featues might have an impact on the price. Another table called \"amenities\" could be created using dummy variables to reduce the quantity of columns in this dataset, using the id of the property as the primary key.\n",
    "\n",
    "- All the variables have relevance at some degree, especially when they are combined to each other. However, in order to have a comprehensive but short look of the dataset, 5 variables were selected as the most importants to be considered:\n",
    "    - price: this variable helps to identify possible trends and establish comparisons when combined with other variables. Most of the time, price is a decisive factor when selecting a place to stay.\n",
    "    - neighbourhood: this variable might indicate which locations are more demanded and contributes to explain variations in prices. \n",
    "    - property_type: this variable could be useful to identify a trend in the selection on the type of property.\n",
    "    - room_type: sometimes guests are allowed to rent the full property or just a room.\n",
    "    - availability_365: As we don't have a column that specifies the range of dates for this dataset, we may calculate using this variable hoy many nights during the year was the property rented and measure popularity of the property.\n",
    "\n",
    "Other variables related to reviews and hosts might be considered important when selecting an accommodation, because they talk about the credibility and reliability of a host or property. However, the author considers that more weight has the price regarding the rental of a property over the \"popularity\". At the end everything reduces to the revenue and profitability of a transaction, when properties are selected several times, it should reflect in postive reviews. \n",
    "\n",
    "As the data doesn't offer information related to dates, it will not be possible to establish a trend according to seasons or specific dates."
   ]
  },
  {
   "cell_type": "markdown",
   "metadata": {},
   "source": [
    "## 2. Research Questions & Hypothesis"
   ]
  },
  {
   "cell_type": "markdown",
   "metadata": {},
   "source": [
    "**Research Questions:**\n",
    "\n",
    "2.1. What is the average price per night in each neighbourhood?\n",
    "\n",
    "2.2. Which one is the most popular neighbourhood?\n",
    "\n",
    "2.3. Which are the most frequently booked properties?\n",
    "\n",
    "2.4 What is the most rented type of the property?\n",
    "\n",
    "2.5 What type of room is the most rented?\n",
    "\n",
    "**Hypothesis:**\n",
    "- The price of accommodations will be related to the neighbourhood."
   ]
  },
  {
   "cell_type": "markdown",
   "metadata": {},
   "source": [
    "## 3. Data Pre-processing"
   ]
  },
  {
   "cell_type": "markdown",
   "metadata": {},
   "source": [
    "In order to answer the questions listed in the previous part, some data manipulation should be done, like checking for duplicates and missing values.\n",
    "First, let's remember the size of our dataframe (30179 rows, 81 columns) and now we check for duplicates:"
   ]
  },
  {
   "cell_type": "code",
   "execution_count": 282,
   "metadata": {},
   "outputs": [
    {
     "name": "stdout",
     "output_type": "stream",
     "text": [
      "Number of rows: 30179\n",
      "Number of rows: 30179\n"
     ]
    }
   ],
   "source": [
    "print(f\"Number of rows: {data.shape[0]}\")\n",
    "data.drop_duplicates(inplace=True)\n",
    "print(f\"Number of rows: {data.shape[0]}\")"
   ]
  },
  {
   "cell_type": "markdown",
   "metadata": {},
   "source": [
    "According to the previous result, there are no identical rows in our dataset. We proceed to check for null values.\n",
    "\n",
    "-We define a variable column_totals that will sum every row in each column that has a value (not null).\n",
    "\n",
    "-Then another variable is defined: values_missing, where we substract the total of columns with not null values from the complete amount of rows. \n",
    "\n",
    "This allows us to identify which columns have missing values and how they impact our analysis."
   ]
  },
  {
   "cell_type": "code",
   "execution_count": 283,
   "metadata": {},
   "outputs": [
    {
     "name": "stdout",
     "output_type": "stream",
     "text": [
      "name                              13\n",
      "summary                         1218\n",
      "description                      604\n",
      "neighborhood_overview          12066\n",
      "transit                        11989\n",
      "house_rules                    13557\n",
      "host_since                         9\n",
      "host_response_time             13097\n",
      "host_response_rate             13097\n",
      "host_is_superhost                  9\n",
      "host_listings_count                9\n",
      "host_identity_verified             9\n",
      "neighbourhood                      9\n",
      "review_scores_rating            9085\n",
      "review_scores_accuracy          9111\n",
      "review_scores_cleanliness       9101\n",
      "review_scores_checkin           9129\n",
      "review_scores_communication     9110\n",
      "review_scores_location          9132\n",
      "review_scores_value             9130\n",
      "reviews_per_month               8260\n",
      "dtype: int64\n"
     ]
    }
   ],
   "source": [
    "column_totals = data.notnull().sum()\n",
    "values_missing = 30179 - (column_totals.loc[column_totals < data.shape[0]])\n",
    "print(values_missing)"
   ]
  },
  {
   "cell_type": "markdown",
   "metadata": {},
   "source": [
    "Checking the variables we selected as the most important (price, neighbourhood, property_type, room_type and availability_365), we could see that there are no missing values or less than 0.05% of missing values. However, the variable review_scores_value is missing approximately 30% of the values, which might impact one of our initial hypothesis."
   ]
  },
  {
   "cell_type": "markdown",
   "metadata": {},
   "source": [
    "In the following part we will "
   ]
  },
  {
   "cell_type": "markdown",
   "metadata": {},
   "source": [
    "## 4. Results and Analysis"
   ]
  },
  {
   "cell_type": "markdown",
   "metadata": {},
   "source": [
    "In this section we will run some codes and display some visualizations in order to answer the Research Questions and test our Hypotheses.\n",
    "First we will check which Neighbourhoods have the majority of listings."
   ]
  },
  {
   "cell_type": "code",
   "execution_count": 321,
   "metadata": {},
   "outputs": [
    {
     "name": "stdout",
     "output_type": "stream",
     "text": [
      "neighbourhood\n",
      "Brooklyn              7024\n",
      "Manhattan             6022\n",
      "Queens                1695\n",
      "Williamsburg          1238\n",
      "Bedford-Stuyvesant    1134\n",
      "                      ... \n",
      "Dyker Heights            1\n",
      "Dongan Hills             1\n",
      "Meiers Corners           1\n",
      "New Brighton             1\n",
      "New Springville          1\n",
      "Name: count, Length: 186, dtype: int64\n"
     ]
    }
   ],
   "source": [
    "popular_neighbourhood = data.value_counts('neighbourhood').sort_values(ascending=False)\n",
    "neighbourhood_top_10 = popular_neighbourhood.head(10).index.tolist()\n",
    "data_neighbourhoods = data[data['neighbourhood'].isin(neighbourhood_top_10)]\n",
    "print(popular_neighbourhood)"
   ]
  },
  {
   "cell_type": "code",
   "execution_count": 322,
   "metadata": {},
   "outputs": [
    {
     "data": {
      "image/png": "[encoded data removed]",
      "text/plain": [
       "<Figure size 640x480 with 1 Axes>"
      ]
     },
     "metadata": {},
     "output_type": "display_data"
    }
   ],
   "source": [
    "sns.countplot(\n",
    "    data = data_neighbourhoods,\n",
    "    y = 'neighbourhood'\n",
    ")\n",
    "\n",
    "plt.title(\"Top 10 Neighbourhoods in NYC according to Airbnb data\")\n",
    "plt.xlabel(\"Quantity of listings\")\n",
    "plt.ylabel(\"Neighbourhoods\")\n",
    "plt.rc('xtick', labelsize=10) \n",
    "plt.rc('ytick', labelsize=10)"
   ]
  },
  {
   "cell_type": "markdown",
   "metadata": {},
   "source": [
    "The Neighbourhoods with more properties listed are: \n",
    "- Brooklyn\n",
    "- Manhattan\n",
    "- Queens\n",
    "- Williamsburg \n",
    "- Bedford-Stuyvesant \n",
    "\n",
    "On the other hand, the Neighbourhoods with less properties lister are: \n",
    " - Dyker Heights\n",
    " - Dongan Hills\n",
    " - Meiers Corners\n",
    " - New Brighton\n",
    " - New Springville"
   ]
  },
  {
   "cell_type": "markdown",
   "metadata": {},
   "source": [
    "But having a Neighbourhood with a lot of properties, does not mean it is a popular one, so we need to check the availability throughout the year, meaning that those properties with less availability are the most popular ones."
   ]
  },
  {
   "cell_type": "code",
   "execution_count": 296,
   "metadata": {},
   "outputs": [
    {
     "name": "stdout",
     "output_type": "stream",
     "text": [
      "neighbourhood\n",
      "Brooklyn              3523\n",
      "Manhattan             2935\n",
      "Williamsburg           781\n",
      "Queens                 546\n",
      "Bedford-Stuyvesant     524\n",
      "                      ... \n",
      "Sea Gate                 1\n",
      "Rosebank                 1\n",
      "Port Morris              1\n",
      "Hillcrest                1\n",
      "Allerton                 1\n",
      "Name: count, Length: 140, dtype: int64\n"
     ]
    }
   ],
   "source": [
    "booked = data[data['availability_365']==0]\n",
    "fully_booked = booked.value_counts('neighbourhood')\n",
    "print(fully_booked)"
   ]
  },
  {
   "cell_type": "code",
   "execution_count": 297,
   "metadata": {},
   "outputs": [],
   "source": [
    "fully_booked_top_10 = fully_booked.head(10).index.tolist()\n",
    "data_booked_top_10 = data[data['neighbourhood'].isin(fully_booked_top_10)]"
   ]
  },
  {
   "cell_type": "markdown",
   "metadata": {},
   "source": [
    "Now we filtered all those properties that are least available throughout the year. And we created a new subset of the top 10 least available properties according to the Neighbourhood. "
   ]
  },
  {
   "cell_type": "code",
   "execution_count": 298,
   "metadata": {},
   "outputs": [
    {
     "data": {
      "image/png": "[encoded data removed]",
      "text/plain": [
       "<Figure size 640x480 with 1 Axes>"
      ]
     },
     "metadata": {},
     "output_type": "display_data"
    }
   ],
   "source": [
    "sns.countplot(\n",
    "    data = data_booked_top_10,\n",
    "    y = 'neighbourhood'\n",
    ")\n",
    "plt.title(\"Top 10 most rented properties in NYC according to Airbnb data\")\n",
    "plt.xlabel(\"Quantity of listings\")\n",
    "plt.ylabel(\"Neighbourhoods\")\n",
    "plt.rc('xtick', labelsize=10) \n",
    "plt.rc('ytick', labelsize=10)"
   ]
  },
  {
   "cell_type": "markdown",
   "metadata": {},
   "source": [
    "It seems that the most rented properties are located in Brooklyn, Manhattan, Williamsburg, Queens and Bedford-Stuyvesant.\n",
    "\n",
    "When a comparison is made between the Neighbourhoods of interest, (the ones with more listings and the listings with no availability throughout the year), we could see that there is a rate of occupancy around the 50%. \n",
    "\n",
    "Other Neighbourhoods have a rate of occupancy near the 100%, but the amount of listings is less so it is logical that the rate of occupancy is higher."
   ]
  },
  {
   "cell_type": "code",
   "execution_count": 314,
   "metadata": {},
   "outputs": [
    {
     "name": "stdout",
     "output_type": "stream",
     "text": [
      "neighbourhood\n",
      "Brooklyn              50.156606\n",
      "Manhattan             48.737961\n",
      "Williamsburg          63.085622\n",
      "Bedford-Stuyvesant    46.208113\n",
      "Name: count, dtype: float64\n"
     ]
    }
   ],
   "source": [
    "comparison = fully_booked *100 /popular_neighbourhood\n",
    "comparison_2 = comparison.sort_values(ascending=False)\n",
    "selected_columns = comparison_2[['Brooklyn', 'Manhattan', 'Williamsburg', 'Queens' and 'Bedford-Stuyvesant']]\n",
    "print(selected_columns)"
   ]
  },
  {
   "cell_type": "markdown",
   "metadata": {},
   "source": [
    "Now, let's explore the prices across the different Neighbourhoods."
   ]
  },
  {
   "cell_type": "code",
   "execution_count": 320,
   "metadata": {},
   "outputs": [
    {
     "name": "stdout",
     "output_type": "stream",
     "text": [
      "133.03590213772137\n"
     ]
    }
   ],
   "source": [
    "avg_price = data_neighbourhoods['price'].mean()\n",
    "print(avg_price)"
   ]
  },
  {
   "cell_type": "markdown",
   "metadata": {},
   "source": [
    "The average price of an accommodationin NYC is 133.04. Let's evaluate it's fluctuation across the different Neighbourhoods."
   ]
  },
  {
   "cell_type": "code",
   "execution_count": 315,
   "metadata": {},
   "outputs": [
    {
     "name": "stdout",
     "output_type": "stream",
     "text": [
      "neighbourhood\n",
      "Midtown               210.866123\n",
      "Upper East Side       174.634766\n",
      "Manhattan             168.384590\n",
      "Upper West Side       163.964727\n",
      "Williamsburg          133.893376\n",
      "Brooklyn              111.548405\n",
      "Harlem                110.247706\n",
      "Queens                 94.523304\n",
      "Bedford-Stuyvesant     92.804233\n",
      "Bushwick               81.751085\n",
      "Name: price, dtype: float64\n"
     ]
    },
    {
     "data": {
      "text/plain": [
       "Text(0, 0.5, 'Neighbourhoods')"
      ]
     },
     "execution_count": 315,
     "metadata": {},
     "output_type": "execute_result"
    },
    {
     "data": {
      "image/png": "[encoded data removed]",
      "text/plain": [
       "<Figure size 640x480 with 1 Axes>"
      ]
     },
     "metadata": {},
     "output_type": "display_data"
    }
   ],
   "source": [
    "average_prices = data_neighbourhoods.groupby('neighbourhood')['price'].mean().sort_values(ascending=False)\n",
    "print(average_prices)\n",
    "\n",
    "sns.barplot(\n",
    "    y = average_prices.index,\n",
    "    x = average_prices.values\n",
    ")\n",
    "plt.title(\"Average Prices in Neighbourhoods in NYC according to Airbnb data\")\n",
    "plt.xlabel(\"Price\")\n",
    "plt.ylabel(\"Neighbourhoods\")"
   ]
  },
  {
   "cell_type": "markdown",
   "metadata": {},
   "source": [
    "This graph showcases that the most expensive nights are spent in Midtown followed by Upper East Side, Manhattan, Upper West Side, Williamsburg and Brooklyn. Related to the average price in NYC, Manhattan has a price above the average price, while Brooklyn, Queens and Bedford_Stuyvesant have prices below the average. In the case of Williamsburg the price is exactly the average."
   ]
  },
  {
   "cell_type": "code",
   "execution_count": 326,
   "metadata": {},
   "outputs": [
    {
     "name": "stdout",
     "output_type": "stream",
     "text": [
      "property_type\n",
      "Apartment                 24538\n",
      "House                      2125\n",
      "Condominium                 982\n",
      "Townhouse                   772\n",
      "Loft                        740\n",
      "Serviced apartment          290\n",
      "Hotel                       192\n",
      "Guest suite                 137\n",
      "Boutique hotel              104\n",
      "Other                        65\n",
      "Bed and breakfast            63\n",
      "Hostel                       43\n",
      "Resort                       25\n",
      "Guesthouse                   24\n",
      "Bungalow                     19\n",
      "Aparthotel                   11\n",
      "Villa                         9\n",
      "Tiny house                    7\n",
      "Earth house                   4\n",
      "Cabin                         4\n",
      "Casa particular (Cuba)        3\n",
      "Tent                          3\n",
      "Cottage                       3\n",
      "Boat                          3\n",
      "Farm stay                     2\n",
      "Houseboat                     2\n",
      "Cave                          2\n",
      "Yurt                          2\n",
      "Dome house                    1\n",
      "Castle                        1\n",
      "Camper/RV                     1\n",
      "Treehouse                     1\n",
      "Barn                          1\n",
      "Name: count, dtype: int64\n"
     ]
    }
   ],
   "source": [
    "most_common_property_type = data.value_counts('property_type').sort_values(ascending=False)\n",
    "print(most_common_property_type)"
   ]
  },
  {
   "cell_type": "code",
   "execution_count": 335,
   "metadata": {},
   "outputs": [
    {
     "data": {
      "text/plain": [
       "room_type\n",
       "Private room       15101\n",
       "Entire home/apt    14238\n",
       "Shared room          840\n",
       "Name: count, dtype: int64"
      ]
     },
     "execution_count": 335,
     "metadata": {},
     "output_type": "execute_result"
    }
   ],
   "source": [
    "data.value_counts('room_type')"
   ]
  },
  {
   "cell_type": "markdown",
   "metadata": {},
   "source": [
    "## 5. Conclusion"
   ]
  },
  {
   "cell_type": "markdown",
   "metadata": {},
   "source": [
    "This study gave a quick overview among multiple variables that may impact the guests' decision when selecting a property for a few nights. Then main focus was centered in the price, the location of the property and the type of property. \n",
    "\n",
    "To understand how popular a Neighbourhood was, it was simply selected by the Neighbourhoods with the greatest quantity of listings. In order to check which properties were the most popular a crossed examination was made comparing the availability during the year mong the properties in every Neighbourhood, leading to understand that the properties that were occupied most time during the year were the ones more popular.\n",
    "\n",
    "The average rice of accommodation in NYC is around 133$. During the Results and Analysis phase, we could see that the most popular Neighbourhood was Brooklyn having a rate of occupancy of 50% and having an average price of 111.5$ per night, followed by Manhattan with a 48% of rate of occupancy and an price per night of 168.3$.\n",
    "\n",
    "The most rented properties were Apartments (24538 units) and the most rented rooms were Private rooms followed closely by Entire home/apt.\n",
    "\n",
    "In the future a great complement for this study would be evaluate the typeof property and the type of room in each Neighbourhood and evaluate the reviews of this properties and if the host is a superhost or not.\n",
    "\n",
    "For the selection of variables a matrix of correlations would be suggested, just to make sure that the appropriate variables were selected. As thi is an initial project, the author considers that doing this matrix is out of the current knowledge."
   ]
  }
 ],
 "metadata": {
  "kernelspec": {
   "display_name": "base",
   "language": "python",
   "name": "python3"
  },
  "language_info": {
   "codemirror_mode": {
    "name": "ipython",
    "version": 3
   },
   "file_extension": ".py",
   "mimetype": "text/x-python",
   "name": "python",
   "nbconvert_exporter": "python",
   "pygments_lexer": "ipython3",
   "version": "3.12.4"
  }
 },
 "nbformat": 4,
 "nbformat_minor": 2
}
